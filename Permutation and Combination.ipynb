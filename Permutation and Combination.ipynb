{
 "cells": [
  {
   "cell_type": "markdown",
   "id": "07109cf6-f337-4732-8932-dfce19859b1d",
   "metadata": {},
   "source": [
    "# Permutation and Combination\n",
    "#### Table of Contents\n",
    "1. Permutation \n",
    "2. Combination\n"
   ]
  },
  {
   "cell_type": "markdown",
   "id": "6ad6dea7-9cec-4a08-8cb2-27d5819cae8b",
   "metadata": {},
   "source": [
    "## Permutation"
   ]
  },
  {
   "cell_type": "code",
   "execution_count": 1,
   "id": "eaab3f86-dfee-4226-b963-f29ec351640b",
   "metadata": {},
   "outputs": [
    {
     "name": "stdout",
     "output_type": "stream",
     "text": [
      "10\n",
      "20\n"
     ]
    }
   ],
   "source": [
    "from itertools import combinations\n",
    "from itertools import permutations \n",
    "import numpy as np\n",
    "import math\n",
    "arr=np.array(['H','O','R','S','E'])\n",
    "print(len(list(combinations(arr, 2)) ))\n",
    "print(len(list(permutations(arr,2) )))  "
   ]
  },
  {
   "cell_type": "code",
   "execution_count": 3,
   "id": "633bf778-ca3c-4488-84e7-603d2911dfba",
   "metadata": {},
   "outputs": [
    {
     "name": "stdout",
     "output_type": "stream",
     "text": [
      "[('H', 'O'), ('H', 'R'), ('H', 'S'), ('H', 'E'), ('O', 'H'), ('O', 'R'), ('O', 'S'), ('O', 'E'), ('R', 'H'), ('R', 'O'), ('R', 'S'), ('R', 'E'), ('S', 'H'), ('S', 'O'), ('S', 'R'), ('S', 'E'), ('E', 'H'), ('E', 'O'), ('E', 'R'), ('E', 'S')]\n"
     ]
    }
   ],
   "source": [
    "print(list(permutations(arr,2) ))  "
   ]
  },
  {
   "cell_type": "code",
   "execution_count": 4,
   "id": "eb3842ac-222a-4dd2-9232-a32bac90a393",
   "metadata": {},
   "outputs": [
    {
     "name": "stdout",
     "output_type": "stream",
     "text": [
      "[('H', 'O'), ('H', 'R'), ('H', 'S'), ('H', 'E'), ('O', 'R'), ('O', 'S'), ('O', 'E'), ('R', 'S'), ('R', 'E'), ('S', 'E')]\n"
     ]
    }
   ],
   "source": [
    "print(list(combinations(arr, 2)) )"
   ]
  },
  {
   "cell_type": "markdown",
   "id": "cf10b950-023e-48eb-bbd9-3cc279a9510c",
   "metadata": {},
   "source": [
    "## Combination"
   ]
  },
  {
   "cell_type": "markdown",
   "id": "6c03b619-9b37-4c49-87f3-e284af2f9938",
   "metadata": {},
   "source": [
    "### Combinations with Factorial"
   ]
  },
  {
   "cell_type": "code",
   "execution_count": 5,
   "id": "47446a3d-1c9c-4c93-8355-3ab652454b10",
   "metadata": {},
   "outputs": [
    {
     "name": "stdout",
     "output_type": "stream",
     "text": [
      "6720.0\n"
     ]
    }
   ],
   "source": [
    "# In how many ways can 10 balls be picked, from 7 red out of 10, and 3 blue out of 8?\n",
    "import math\n",
    "red=math.factorial(10)/((math.factorial(7))*math.factorial(3))\n",
    "blue=math.factorial(8)/((math.factorial(3))*math.factorial(5))\n",
    "print(red*blue)"
   ]
  },
  {
   "cell_type": "code",
   "execution_count": null,
   "id": "7b3f57ba-8d5e-4396-abad-f1bcaed01b86",
   "metadata": {},
   "outputs": [],
   "source": []
  }
 ],
 "metadata": {
  "kernelspec": {
   "display_name": "Python 3 (ipykernel)",
   "language": "python",
   "name": "python3"
  },
  "language_info": {
   "codemirror_mode": {
    "name": "ipython",
    "version": 3
   },
   "file_extension": ".py",
   "mimetype": "text/x-python",
   "name": "python",
   "nbconvert_exporter": "python",
   "pygments_lexer": "ipython3",
   "version": "3.9.12"
  }
 },
 "nbformat": 4,
 "nbformat_minor": 5
}
